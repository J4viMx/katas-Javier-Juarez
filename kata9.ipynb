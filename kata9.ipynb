{
 "cells": [
  {
   "cell_type": "markdown",
   "metadata": {},
   "source": [
    "# Ejercicio: Uso de funciones en Python\n",
    "Ejercicio 1: Trabajar con argumentos en funciones\n",
    "Los argumentos requeridos en las funciones se utilizan cuando las funciones necesitan que esos argumentos funcionen correctamente. En este ejercicio, construirás un informe de combustible que requiere información de varias ubicaciones de combustible en todo el cohete.\n",
    "Comienza por crear una función que necesite tres lecturas de combustible y devuelva un informe:"
   ]
  },
  {
   "cell_type": "code",
   "execution_count": 38,
   "metadata": {},
   "outputs": [],
   "source": [
    "def informe(primerTanque, segundoTanque, tercerTanque):\n",
    "    promedio = (primerTanque + segundoTanque + tercerTanque) / 3\n",
    "    return f\"\"\"Reporte de tanques:\n",
    "    Promedio tanques combustible: {promedio}%  El primer tanque tiene: {primerTanque}% El segundo tanque tiene: {segundoTanque}% El tercer tanque tiene: {tercerTanque}% \"\"\""
   ]
  },
  {
   "cell_type": "markdown",
   "metadata": {},
   "source": [
    "Ahora que hemos definido la función de informes, vamos a comprobarlo. Para esta misión, los tanques no están llenos:"
   ]
  },
  {
   "cell_type": "code",
   "execution_count": 39,
   "metadata": {},
   "outputs": [
    {
     "name": "stdout",
     "output_type": "stream",
     "text": [
      "Reporte de tanques:\n",
      "    Promedio tanques combustible: 90.0%  El primer tanque tiene: 90% El segundo tanque tiene: 90% El tercer tanque tiene: 90% \n"
     ]
    }
   ],
   "source": [
    "print(informe(90, 90, 90))"
   ]
  },
  {
   "cell_type": "markdown",
   "metadata": {},
   "source": [
    "En lugar de simplemente crear el informe, la función también está calculando el promedio. Mejora la legibilidad extrayendo el cálculo promedio de la función en una nueva función para que el promedio se pueda hacer de forma independiente:"
   ]
  },
  {
   "cell_type": "code",
   "execution_count": 40,
   "metadata": {},
   "outputs": [
    {
     "data": {
      "text/plain": [
       "82.0"
      ]
     },
     "execution_count": 40,
     "metadata": {},
     "output_type": "execute_result"
    }
   ],
   "source": [
    "def promedios(values):\n",
    "    total = sum(values)\n",
    "    cantidadValores = len(values)\n",
    "    return total / cantidadValores\n",
    "\n",
    "promedios([80, 85, 81]) "
   ]
  },
  {
   "cell_type": "markdown",
   "metadata": {},
   "source": [
    "Ahora actualiza la función de informes para llamando a la nueva función del promedio:"
   ]
  },
  {
   "cell_type": "code",
   "execution_count": 41,
   "metadata": {},
   "outputs": [
    {
     "name": "stdout",
     "output_type": "stream",
     "text": [
      "Reporte de tanques:\n",
      "    Promedio tanques combustible: 90.0%  El primer tanque tiene: 90% El segundo tanque tiene: 90% El tercer tanque tiene: 90% \n"
     ]
    }
   ],
   "source": [
    "def informe(primerTanque, segundoTanque, tercerTanque):\n",
    "    return f\"\"\"Reporte de tanques:\n",
    "    Promedio tanques combustible: {promedios([primerTanque, segundoTanque, tercerTanque])}%  El primer tanque tiene: {primerTanque}% El segundo tanque tiene: {segundoTanque}% El tercer tanque tiene: {tercerTanque}% \"\"\"\n",
    "\n",
    "print(informe(90, 90, 90))"
   ]
  },
  {
   "cell_type": "markdown",
   "metadata": {},
   "source": [
    "# Ejercicio 2: Trabajo con argumentos de palabra clave\n",
    "Ejercicio : Trabajar con argumentos de palabras clave en funciones\n",
    "En este ejercicio, construirás un informe de cohete que requiere varias piezas de información, como el tiempo hasta el destino, el combustible a la izquierda y el nombre del destino. Comienza por crear una función que creará un informe preciso de la misión:"
   ]
  },
  {
   "cell_type": "code",
   "execution_count": 46,
   "metadata": {},
   "outputs": [
    {
     "name": "stdout",
     "output_type": "stream",
     "text": [
      " Destino de la mision: Moon, Tiempo de viaje: 65 horas, Combustible: 500000L\n"
     ]
    }
   ],
   "source": [
    "def mission_report(prelanzamiento, tiempoVuelo, destino, tanqueExterno, tanqueInterno):\n",
    "    return f\"\"\" Destino de la mision: {destino}, Tiempo de viaje: {prelanzamiento + tiempoVuelo} minutos, Combustible: {tanqueExterno + tanqueInterno}L\"\"\"\n",
    "\n",
    "print(mission_report(14, 51, \"Moon\", 200000, 300000))"
   ]
  },
  {
   "cell_type": "markdown",
   "metadata": {},
   "source": [
    "La función es problemática porque no se puede adaptar para minutos adicionales o tanques adicionales de combustible. Hazlo más flexible permitiendo cualquier número de pasos basados en el tiempo y cualquier número de tanques. En lugar de usar *args y **kwargs, aprovecha el hecho de que puedes usar cualquier nombre que desees. Asegurate que la función sea más legible mediante el uso de nombres de variables que están asociados con las entradas, como *minutes y **fuel_reservoirs:"
   ]
  },
  {
   "cell_type": "code",
   "execution_count": 47,
   "metadata": {},
   "outputs": [
    {
     "name": "stdout",
     "output_type": "stream",
     "text": [
      "\n",
      "    Destino de la mision: Moon, Tiempo de viaje: 76 horas, Combustible: 500000\n",
      "    \n"
     ]
    }
   ],
   "source": [
    "def mission_report(destino, *minutes, **fuel_reservoirs):\n",
    "    return f\"\"\"\n",
    "    Destino de la mision: {destino}, Tiempo de viaje: {sum(minutes)} minutos, Combustible: {sum(fuel_reservoirs.values())}\n",
    "    \"\"\"\n",
    "\n",
    "print(mission_report(\"Moon\", 10, 15, 51, tanqueInterno=300000, tanqueExterno=200000))"
   ]
  },
  {
   "cell_type": "markdown",
   "metadata": {},
   "source": [
    "Debido a que el combustible que queda en los tanques es específico de cada tanque, actualiza la función para usar el nombre de cada tanque en el informe:"
   ]
  },
  {
   "cell_type": "code",
   "execution_count": 51,
   "metadata": {},
   "outputs": [
    {
     "name": "stdout",
     "output_type": "stream",
     "text": [
      "\n",
      "    Destino de la mision: Moon, Tiempo de viaje: 74 minutos, Combustible: 500000L\n",
      "    El tanqueInterno tiene 300000L aún\n",
      "El tanqueExterno tiene 200000L aún\n",
      "\n"
     ]
    }
   ],
   "source": [
    "def mission_report(destino, *minutes, **fuel_reservoirs):\n",
    "    reporte = f\"\"\"\n",
    "    Destino de la mision: {destino}, Tiempo de viaje: {sum(minutes)} minutos, Combustible: {sum(fuel_reservoirs.values())}L\n",
    "    \"\"\"\n",
    "    for tanque, litros in fuel_reservoirs.items():\n",
    "        reporte += f\"El {tanque} tiene {litros}L aún\\n\"\n",
    "    return reporte\n",
    "\n",
    "print(mission_report(\"Moon\", 8, 11, 55, tanqueInterno=300000, tanqueExterno=200000))"
   ]
  }
 ],
 "metadata": {
  "interpreter": {
   "hash": "2be5faf79681da6f2a61fdfdd5405d65d042280f7fba6178067603e3a2925119"
  },
  "kernelspec": {
   "display_name": "Python 3.10.2 64-bit",
   "language": "python",
   "name": "python3"
  },
  "language_info": {
   "codemirror_mode": {
    "name": "ipython",
    "version": 3
   },
   "file_extension": ".py",
   "mimetype": "text/x-python",
   "name": "python",
   "nbconvert_exporter": "python",
   "pygments_lexer": "ipython3",
   "version": "3.10.2"
  },
  "orig_nbformat": 4
 },
 "nbformat": 4,
 "nbformat_minor": 2
}
